{
  "nbformat": 4,
  "nbformat_minor": 0,
  "metadata": {
    "colab": {
      "provenance": [],
      "authorship_tag": "ABX9TyOI58D7iRJ+ZkG+2Rkt/FY+",
      "include_colab_link": true
    },
    "kernelspec": {
      "name": "python3",
      "display_name": "Python 3"
    },
    "language_info": {
      "name": "python"
    }
  },
  "cells": [
    {
      "cell_type": "markdown",
      "metadata": {
        "id": "view-in-github",
        "colab_type": "text"
      },
      "source": [
        "<a href=\"https://colab.research.google.com/github/Cris28-18/prog_estructura_datos/blob/main/Parcial_programaci%C3%B3n.ipynb\" target=\"_parent\"><img src=\"https://colab.research.google.com/assets/colab-badge.svg\" alt=\"Open In Colab\"/></a>"
      ]
    },
    {
      "cell_type": "code",
      "execution_count": 9,
      "metadata": {
        "colab": {
          "base_uri": "https://localhost:8080/"
        },
        "id": "vI0JnNrIx7Cy",
        "outputId": "d030785f-146a-47fc-f2c0-4c28d0427363"
      },
      "outputs": [
        {
          "output_type": "stream",
          "name": "stdout",
          "text": [
            "Ingrese su nombre completo: \n",
            "Samuel Alejandro Chavez Char\n",
            "Su nombre es:  Samuel Alejandro Chavez Char\n"
          ]
        }
      ],
      "source": [
        "#ejercicio 2\n",
        "print(\"Ingrese su nombre completo: \")\n",
        "x = input()\n",
        "print(\"Su nombre es: \" , x)"
      ]
    },
    {
      "cell_type": "code",
      "source": [
        "#ejercicio 3\n",
        "print(\"ingrese un número: \")\n",
        "x = input()\n",
        "print(\"ingrese otro número: \")\n",
        "y = input()\n",
        "print(\"la suma de los números es: \" , int(x) + int(y))"
      ],
      "metadata": {
        "colab": {
          "base_uri": "https://localhost:8080/"
        },
        "id": "wsZFw68FysF_",
        "outputId": "137c3d88-db95-4c57-e648-6511f956886d"
      },
      "execution_count": 8,
      "outputs": [
        {
          "output_type": "stream",
          "name": "stdout",
          "text": [
            "ingrese un número: \n",
            "2\n",
            "ingrese otro número: \n",
            "3\n",
            "la suma de los números es:  5\n"
          ]
        }
      ]
    }
  ]
}